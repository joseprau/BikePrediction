{
 "cells": [
  {
   "cell_type": "markdown",
   "id": "a46e067e",
   "metadata": {},
   "source": [
    "# Preprocessing required\n",
    "As seen during the exploratory data analysis, there are a few transformations that should be made in order get the data ready for applying ML algos. In this case, the data needs to: \n",
    "- Log the Target Variable (cnt)\n",
    "- OneHot encoding for categorical variables \n",
    "- Remove atemp since it was strongly correlated with temp variable."
   ]
  },
  {
   "cell_type": "code",
   "execution_count": 1,
   "id": "e1cb04f5",
   "metadata": {},
   "outputs": [],
   "source": [
    "import pandas as pd"
   ]
  },
  {
   "cell_type": "code",
   "execution_count": 2,
   "id": "04fe311a",
   "metadata": {},
   "outputs": [],
   "source": [
    "FILENAME = './data/data.csv'\n",
    "df = pd.read_csv(FILENAME)"
   ]
  }
 ],
 "metadata": {
  "kernelspec": {
   "display_name": "ml_env",
   "language": "python",
   "name": "python3"
  },
  "language_info": {
   "codemirror_mode": {
    "name": "ipython",
    "version": 3
   },
   "file_extension": ".py",
   "mimetype": "text/x-python",
   "name": "python",
   "nbconvert_exporter": "python",
   "pygments_lexer": "ipython3",
   "version": "3.11.10"
  }
 },
 "nbformat": 4,
 "nbformat_minor": 5
}
